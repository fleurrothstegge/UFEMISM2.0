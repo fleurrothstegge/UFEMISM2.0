{
 "cells": [
  {
   "cell_type": "code",
   "execution_count": null,
   "metadata": {},
   "outputs": [],
   "source": [
    "# OPTIONAL: Load the \"autoreload\" extension so that code can change\n",
    "%load_ext autoreload\n",
    "\n",
    "# OPTIONAL: always reload modules so that as you change code\n",
    "%autoreload 2\n",
    "\n",
    "import xarray as xr\n",
    "\n",
    "from python_src.plotting.plot_UFE_mesh import *"
   ]
  },
  {
   "cell_type": "code",
   "execution_count": null,
   "metadata": {},
   "outputs": [],
   "source": [
    "\"\"\" \n",
    "This notebook uses the plot_UFE_mesh module to plot UFE output on the mesh. \n",
    "\"\"\""
   ]
  },
  {
   "cell_type": "code",
   "execution_count": 4,
   "metadata": {},
   "outputs": [],
   "source": [
    "# Load data\n",
    "ds_UFE1 = xr.open_dataset(f'../../data/raw/test1/main_output_ANT_00001.nc')\n",
    "ds_UFE2 = xr.open_dataset(f'../../data/raw/test2/main_output_ANT_00001.nc')"
   ]
  },
  {
   "cell_type": "code",
   "execution_count": 5,
   "metadata": {},
   "outputs": [],
   "source": [
    "# Extract patches from this mesh\n",
    "patches = extract_voronoi_cells(ds_UFE1)"
   ]
  },
  {
   "cell_type": "code",
   "execution_count": null,
   "metadata": {},
   "outputs": [],
   "source": [
    "# Plot variable\n",
    "fig, ax = plt.subplots(1,1,figsize=(5,5))\n",
    "ax = plot_UFE_mesh_single(patches, ds_UFE1, 'Hi', 80000, mask=['ocean', 'GL'], speedup=True, figax = [fig,ax])"
   ]
  },
  {
   "cell_type": "code",
   "execution_count": null,
   "metadata": {},
   "outputs": [],
   "source": [
    "# Plot Hi, BMB and uabs_surf next to eachother:\n",
    "fig,ax = plt.subplots(1,3, figsize=(15,5), dpi=300)\n",
    "\n",
    "axes = ax.flatten()\n",
    "axes[0] = plot_UFE_mesh_single(patches, ds_UFE1, 'Hi',          80000, mask=['ocean', 'GL'], set_limits='WAIS_zoom', speedup=True, figax=[fig, axes[0]])\n",
    "axes[1] = plot_UFE_mesh_single(patches, ds_UFE1, 'BMB',         80000, mask=['ocean', 'GL'], set_limits='WAIS_zoom', speedup=True, figax=[fig, axes[1]])\n",
    "axes[2] = plot_UFE_mesh_single(patches, ds_UFE1, 'uabs_surf',   80000, mask=['ocean', 'GL'], set_limits='WAIS_zoom', speedup=True, figax=[fig, axes[2]])"
   ]
  },
  {
   "cell_type": "code",
   "execution_count": null,
   "metadata": {},
   "outputs": [],
   "source": [
    "# Plot BMB at t = 80000, t = 80020, and the difference between the two:\n",
    "fig,ax = plt.subplots(1,3, figsize=(15,5), dpi=300)\n",
    "\n",
    "axes = ax.flatten()\n",
    "axes[0] = plot_UFE_mesh_single(patches, ds_UFE1, 'BMB',          80000, mask=['ocean', 'GL'], set_limits='WAIS_zoom', speedup=True, figax=[fig, axes[0]])\n",
    "axes[1] = plot_UFE_mesh_single(patches, ds_UFE1, 'BMB',          80020, mask=['ocean', 'GL'], set_limits='WAIS_zoom', speedup=True, figax=[fig, axes[1]])\n",
    "\n",
    "axes[2] = plot_UFE_mesh_single_difference_time(patches, ds_UFE1, 'BMB', 80020, 80000, set_limits='WAIS_zoom', vmin=-100, vmax=100, figax=[fig, axes[2]])"
   ]
  },
  {
   "cell_type": "code",
   "execution_count": null,
   "metadata": {},
   "outputs": [],
   "source": [
    "plot_UFE_mesh_single_difference_time(patches, ds_UFE1, 'BMB', 80020, 80000, set_limits='WAIS_zoom')"
   ]
  },
  {
   "cell_type": "code",
   "execution_count": null,
   "metadata": {},
   "outputs": [],
   "source": [
    "plot_UFE_mesh_single_difference_var(patches, ds_UFE1, 'BMB_inv', 'BMB_transition_phase', 80002, mask=['ocean', 'grounded'], set_limits='WAIS_zoom')"
   ]
  },
  {
   "cell_type": "code",
   "execution_count": null,
   "metadata": {},
   "outputs": [],
   "source": [
    "plot_UFE_mesh_single_difference_ds(patches, ds_UFE1, ds_UFE2, 'BMB_inv', 80010, set_limits='WAIS_zoom', run_names=['UFE1', 'UFE2'])"
   ]
  },
  {
   "cell_type": "code",
   "execution_count": null,
   "metadata": {},
   "outputs": [],
   "source": []
  }
 ],
 "metadata": {
  "kernelspec": {
   "display_name": "P2_DIR",
   "language": "python",
   "name": "python3"
  },
  "language_info": {
   "codemirror_mode": {
    "name": "ipython",
    "version": 3
   },
   "file_extension": ".py",
   "mimetype": "text/x-python",
   "name": "python",
   "nbconvert_exporter": "python",
   "pygments_lexer": "ipython3",
   "version": "3.10.16"
  }
 },
 "nbformat": 4,
 "nbformat_minor": 2
}
